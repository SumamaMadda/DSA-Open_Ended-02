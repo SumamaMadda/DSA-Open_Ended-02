{
 "cells": [
  {
   "cell_type": "markdown",
   "metadata": {},
   "source": [
    "## Open-Ended Lab Task 2:\n",
    "Objective:\n",
    "Given a pattern and a string s, find if s follows the same pattern.\n",
    "\n",
    "Here follow means a full match, such that there is a bijection between a letter in pattern and a non-empty word in s. Specifically:\n",
    "#####\tEach letter in pattern maps to exactly one unique word in s.\n",
    "#####\tEach unique word in s maps to exactly one letter in pattern.\n",
    "#####\tNo two letters map to the same word, and no two words map to the same letter.\n",
    "\n"
   ]
  },
  {
   "cell_type": "code",
   "execution_count": null,
   "metadata": {},
   "outputs": [],
   "source": [
    "# 22F-BSAI-12 Sumama Madda\n",
    "\n",
    "def wordPattern(pattern, s):\n",
    "    words = s.split()\n",
    "    if len(words) != len(pattern): return False\n",
    "    \n",
    "    # Hash mapping storing character to word and vice-versa mapping\n",
    "    #Dictionaries\n",
    "    char_to_word, word_to_char = {}, {}\n",
    "    \n",
    "    # p for pattern, w for words\n",
    "    for p, w in zip(pattern, words):\n",
    "        if char_to_word.get(p, w) != w or word_to_char.get(w, p) != p:\n",
    "            return False\n",
    "        char_to_word[p] = w\n",
    "        word_to_char[w] = p\n",
    "    \n",
    "    return True\n",
    "\n",
    "# Given Pattern \n",
    "print(wordPattern(\"abba\", \"dog cat cat dog\"))  \n",
    "print(wordPattern(\"aaaa\", \"dog dog dog dog\"))  \n",
    "\n",
    "print(wordPattern(\"aabb\", \"dog cat cat dog\"))  \n",
    "print(wordPattern(\"abba\", \"dog cat cat fish\"))  \n",
    "print(wordPattern(\"aaaa\", \"dog cat cat dog\"))  \n"
   ]
  }
 ],
 "metadata": {
  "language_info": {
   "name": "python"
  }
 },
 "nbformat": 4,
 "nbformat_minor": 2
}
